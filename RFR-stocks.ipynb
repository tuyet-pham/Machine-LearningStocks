{
 "metadata": {
  "language_info": {
   "codemirror_mode": {
    "name": "ipython",
    "version": 3
   },
   "file_extension": ".py",
   "mimetype": "text/x-python",
   "name": "python",
   "nbconvert_exporter": "python",
   "pygments_lexer": "ipython3",
   "version": "3.7.3-final"
  },
  "orig_nbformat": 2,
  "kernelspec": {
   "name": "python37364bitbaseconda6d27900fd3124888b69a6d87ba074609",
   "display_name": "Python 3.7.3 64-bit ('base': conda)"
  }
 },
 "nbformat": 4,
 "nbformat_minor": 2,
 "cells": [
  {
   "source": [
    "# ! unzip data.zip\n",
    "! conda install -c conda-forge tqdm"
   ],
   "cell_type": "code",
   "metadata": {
    "tags": []
   },
   "execution_count": 61,
   "outputs": []
  },
  {
   "cell_type": "code",
   "execution_count": 76,
   "metadata": {},
   "outputs": [],
   "source": [
    "import pandas as pd\n",
    "from sklearn import tree\n",
    "import numpy as np\n",
    "import matplotlib as plot\n",
    "import tqdm\n",
    "import time\n"
   ]
  },
  {
   "cell_type": "code",
   "execution_count": 77,
   "metadata": {},
   "outputs": [],
   "source": [
    "# To get the list of names\n",
    "file1 = open(\"data/listall.csv\",\"w+\") \n",
    "alst = pd.read_csv(\"data/all_stocks_5yr.csv\")\n",
    "alst = alst['Name'].unique()\n",
    "\n",
    "file1.writelines(\"Name\\n\")\n",
    "for e in alst:\n",
    "    file1.writelines(e+\"\\n\")\n"
   ]
  },
  {
   "cell_type": "code",
   "execution_count": 79,
   "metadata": {},
   "outputs": [],
   "source": [
    "file1 = pd.read_csv('data/listall.csv')\n"
   ]
  },
  {
   "cell_type": "code",
   "execution_count": 85,
   "metadata": {},
   "outputs": [],
   "source": [
    "\n",
    "\n",
    "# Getting the a tuple from the file - train and dev set\n",
    "def train_dev(name):\n",
    "    df = pd.read_csv('data/individual_stocks_5yr/', name, '_data.csv')\n",
    "    \n",
    "    # Getting within the time\n",
    "    train_stock = df[(df['date'] >= '2012-12-31') & (df['date'] <= '2016-01-01')]\n",
    "    dev_stock = df[(df['date'] >= '2016-01-02') & (df['date'] <= '2019-01-01')]\n",
    "    \n",
    "    # Just Printing timer for extra coolness\n",
    "    print(\"\\nStock good: %s\\nUsing 2013-2015 for training..\" %name)\n",
    "    for i in tqdm.tqdm(range(200)):\n",
    "        time.sleep(0.01)\n",
    "\n",
    "    return train_stock, dev_stock\n"
   ]
  },
  {
   "cell_type": "code",
   "execution_count": 81,
   "metadata": {},
   "outputs": [],
   "source": [
    "# if we want to do this later I guess\n",
    "def train_all():\n",
    "    for i in tqdm.tqdm(range(200)):\n",
    "        time.sleep(0.01)\n",
    "    print(\"Running ALL... might be a minute\")"
   ]
  },
  {
   "cell_type": "code",
   "execution_count": 82,
   "metadata": {},
   "outputs": [],
   "source": [
    "# Picking an individual stock\n",
    "def pick_stock():\n",
    "    found = False\n",
    "    stkname = \"\"\n",
    "\n",
    "    # Get a good name before continuing\n",
    "    while found == False:\n",
    "        stkname = input(\"Stock Name? \").upper()              \n",
    "        \n",
    "        # finding name\n",
    "        for e in file1['Name']:                             \n",
    "            if e == stkname:\n",
    "                return stkname\n",
    "\n",
    "        if stkname == \"QUIT\":\n",
    "            break\n",
    "        print(\"Can't find %s Try again?\" %stkname)\n",
    "\n",
    "    return stkname\n"
   ]
  },
  {
   "cell_type": "code",
   "execution_count": 87,
   "metadata": {},
   "outputs": [
    {
     "output_type": "stream",
     "name": "stderr",
     "text": [
      "100%|██████████| 200/200 [00:02<00:00, 96.49it/s]Running ALL... might be a minute\n",
      "\n"
     ]
    }
   ],
   "source": [
    "# Run to make life easier\n",
    "all_or_one = \"\"\n",
    "all_or_one = input(\"Train ALL? *Say no for now* [y/n]: \")\n",
    "\n",
    "if(all_or_one == \"n\"):\n",
    "    stock_name = pick_stock()\n",
    "    \n",
    "    if(stock_name != \"\"):\n",
    "        train_set, dev_set = train_dev(stock_name)\n",
    "        print(\"\\n\\nTraing set\\n\",train_set,\"\\n\\nDevset\\n\", dev_set)\n",
    "else:\n",
    "    train_all()"
   ]
  }
 ]
}